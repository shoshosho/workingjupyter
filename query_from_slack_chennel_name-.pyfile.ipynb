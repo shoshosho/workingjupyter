{
 "cells": [
  {
   "cell_type": "code",
   "execution_count": 10,
   "metadata": {
    "collapsed": false
   },
   "outputs": [],
   "source": [
    "import json\n",
    "import requests\n",
    "import sys\n",
    "import arxivpy\n",
    "from google.cloud import translate\n",
    "\n",
    "# google翻訳は一旦なしでやるヨロシ：田口\n",
    "translate_client = translate.Client.from_service_account_json('/Users/01017387/Desktop/google_credentials/translate-a0f64139d4a6.json')\n",
    "sys.path.append(\"/Users/01017387/Desktop/git関連/websocket-client\")\n",
    "from slackclient import SlackClient\n",
    "\n",
    "# slackAPIは別途渡します：田口\n",
    "file = \"/Users/01017387/.credentials/slack_apikey\"\n",
    "f = open(file,'r')\n",
    "for row in f:\n",
    "    slack_token = row.replace(\"\\n\",\"\")\n",
    "f.close()\n",
    "\n",
    "sc = SlackClient(slack_token)\n",
    "list_url = \"https://slack.com/api/channels.list\"\n",
    "\n",
    "# activeなチャンネル名を取得\n",
    "active_channels = sc.api_call(\n",
    "  \"channels.list\"\n",
    ")\n",
    "\n",
    "# slack投稿する対象のチャンネル名を特定\n",
    "channel_names = [c[\"name\"] for c in active_channels[\"channels\"]]\n",
    "remove_target = ['general', 'random', 'slack_apiに必要なもの', 'test_arxiv', 'アイデア']\n",
    "for r in remove_target:\n",
    "    channel_names.remove(r)\n",
    "# 保存しているチャンネルと比較して、新しい物が追加されている場合は処理対象に追加する\n",
    "\n",
    "res = 2\n",
    "\n",
    "# チャンネル名の分だけ投稿\n",
    "for c in channel_names:\n",
    "    #結果検索部分\n",
    "    papers = arxivpy.query(c,max_index=res, sort_by=\"submittedDate\", sort_order=\"descending\")\n",
    "    pdf_url, summary, title, published = [],[],[],[]\n",
    "    exec_target = [pdf_url, summary, title, published]\n",
    "    for i in papers:\n",
    "        title.append([i[\"title\"]])\n",
    "        #abstract翻訳部分\n",
    "        text = i[\"abstract\"]\n",
    "        target = 'ja'\n",
    "        translation = translate_client.translate(text, target_language=target)['translatedText']\n",
    "        summary.append([translation])\n",
    "\n",
    "        published.append([i[\"publish_date\"]])\n",
    "        pdf_url.append([i[\"pdf_url\"]])\n",
    "    \n",
    "    #slack通知部分\n",
    "    exec_target = [title, summary, pdf_url, published]\n",
    "    for t,s,pd,p in zip(title, summary, pdf_url, published):\n",
    "        sc.api_call(\"chat.postMessage\", channel=c,text=t)\n",
    "        sc.api_call(\"chat.postMessage\", channel=c,text=str(s))\n",
    "        sc.api_call(\"chat.postMessage\", channel=c,text=pd)\n",
    "        sc.api_call(\"chat.postMessage\", channel=c,text=p[0].strftime(\"%Y-%m-%d %H:%M:%S\"))"
   ]
  }
 ],
 "metadata": {
  "kernelspec": {
   "display_name": "Python [default]",
   "language": "python",
   "name": "python3"
  },
  "language_info": {
   "codemirror_mode": {
    "name": "ipython",
    "version": 3
   },
   "file_extension": ".py",
   "mimetype": "text/x-python",
   "name": "python",
   "nbconvert_exporter": "python",
   "pygments_lexer": "ipython3",
   "version": "3.6.0"
  }
 },
 "nbformat": 4,
 "nbformat_minor": 0
}
