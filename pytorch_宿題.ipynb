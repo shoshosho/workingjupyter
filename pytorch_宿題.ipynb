{
 "cells": [
  {
   "cell_type": "code",
   "execution_count": 1,
   "metadata": {
    "collapsed": true
   },
   "outputs": [],
   "source": [
    "# inception v3,v4の実装\n",
    "# めんどうなので一旦v2"
   ]
  },
  {
   "cell_type": "code",
   "execution_count": 2,
   "metadata": {
    "collapsed": true
   },
   "outputs": [],
   "source": [
    "# 10章\n",
    "# CNNの基礎\n",
    "\n",
    "\n",
    "# https://github.com/pytorch/examples/blob/master/mnist/main.py\n",
    "from __future__ import print_function\n",
    "import argparse\n",
    "import torch\n",
    "import torch.nn as nn\n",
    "import torch.nn.functional as F\n",
    "import torch.optim as optim\n",
    "from torchvision import datasets, transforms\n",
    "from torch.autograd import Variable\n",
    "import numpy as np\n",
    "import matplotlib.pyplot as plt\n",
    "from sklearn.utils import shuffle\n",
    "from sklearn.preprocessing import OneHotEncoder\n",
    "import matplotlib.pyplot as plt\n",
    "import time\n",
    "%matplotlib inline\n",
    "\n",
    "\n",
    "\n",
    "# Training settings\n",
    "batch_size = 64\n",
    "\n"
   ]
  },
  {
   "cell_type": "code",
   "execution_count": null,
   "metadata": {
    "collapsed": true
   },
   "outputs": [],
   "source": [
    "# MNIST Dataset\n",
    "# train_dataset = datasets.MNIST(root='./data/',\n",
    "#                                train=True,\n",
    "#                                transform=transforms.ToTensor(),\n",
    "#                                download=True)\n",
    "\n",
    "# test_dataset = datasets.MNIST(root='./data/',\n",
    "#                               train=False,\n",
    "#                               transform=transforms.ToTensor())\n",
    "\n",
    "# # Data Loader (Input Pipeline)\n",
    "# train_loader = torch.utils.data.DataLoader(dataset=train_dataset,\n",
    "#                                            batch_size=batch_size,\n",
    "#                                            shuffle=True)\n",
    "\n",
    "# test_loader = torch.utils.data.DataLoader(dataset=test_dataset,\n",
    "#                                           batch_size=batch_size,\n",
    "#                                           shuffle=False)\n",
    "\n"
   ]
  },
  {
   "cell_type": "code",
   "execution_count": null,
   "metadata": {
    "collapsed": true
   },
   "outputs": [],
   "source": [
    "# v3の全貌\n",
    "\n",
    "#   conv0             | Conv2d_1a_3x3\n",
    "#   conv1             | Conv2d_2a_3x3\n",
    "#   conv2             | Conv2d_2b_3x3\n",
    "#   pool1             | MaxPool_3a_3x3\n",
    "#   conv3             | Conv2d_3b_1x1\n",
    "#   conv4             | Conv2d_4a_3x3\n",
    "#   pool2             | MaxPool_5a_3x3\n",
    "#   mixed_35x35x256a  | Mixed_5b\n",
    "#   mixed_35x35x288a  | Mixed_5c\n",
    "#   mixed_35x35x288b  | Mixed_5d\n",
    "#   mixed_17x17x768a  | Mixed_6a\n",
    "#   mixed_17x17x768b  | Mixed_6b\n",
    "#   mixed_17x17x768c  | Mixed_6c\n",
    "#   mixed_17x17x768d  | Mixed_6d\n",
    "#   mixed_17x17x768e  | Mixed_6e\n",
    "#   mixed_8x8x1280a   | Mixed_7a\n",
    "#   mixed_8x8x2048a   | Mixed_7b\n",
    "#   mixed_8x8x2048b   | Mixed_7c\n",
    "# このあとaverage, dropout, 全結合, softmaxとつづく\n",
    "\n",
    "\n",
    "# v2全貌\n",
    "# 種類         / patch,stride  / input_size\n",
    "# conv         /     3*3/2     / 299*299*3\n",
    "# conv         /     3*3/1     / 149*149*32\n",
    "# conv padded  /     3*3/1     / 147*147*32\n",
    "# pool         /     3*3/2     / 147*147*64\n",
    "# conv         /     3*3/1     / 73*73*64\n",
    "# conv         /     3*3/2     / 71*71*80\n",
    "# conv         /     3*3/1     / 35*35*192\n",
    "# inception3   /     別途      / 35*35*288\n",
    "# inception5   /     別途      / 17*17*768\n",
    "# inception2   /     別途      / 8*8*1280\n",
    "# pool         /     8*8       / 8*8*2048\n",
    "# linear       /     logit     / 1*1*2048\n",
    "# softmax      /     classifier/ 1*1*1000  \n",
    "\n"
   ]
  },
  {
   "cell_type": "code",
   "execution_count": null,
   "metadata": {
    "collapsed": true
   },
   "outputs": [],
   "source": []
  },
  {
   "cell_type": "code",
   "execution_count": null,
   "metadata": {
    "collapsed": true
   },
   "outputs": [],
   "source": [
    "# インセプションモデルの実装\n",
    "# 種類         / patch,stride  / input_size\n",
    "# inception3   /     別途      / 35*35*288\n",
    "# inception5   /     別途      / 17*17*768\n",
    "# inception2   /     別途      / 8*8*1280\n",
    "\n",
    "class Inception3(nn.Module):\n",
    "    def __init__(self, in_channels):\n",
    "        super(InceptionA, self).__init__()\n",
    "        self.branch1x1 = nn.Conv2d(in_channels, 16, kernel_size=1)\n",
    "\n",
    "        self.branch5x5_1 = nn.Conv2d(in_channels, 16, kernel_size=1)\n",
    "        self.branch5x5_2 = nn.Conv2d(16, 24, kernel_size=5, padding=2)\n",
    "\n",
    "        self.branch3x3dbl_1 = nn.Conv2d(in_channels, 16, kernel_size=1)\n",
    "        self.branch3x3dbl_2 = nn.Conv2d(16, 24, kernel_size=3, padding=1)\n",
    "        self.branch3x3dbl_3 = nn.Conv2d(24, 24, kernel_size=3, padding=1)\n",
    "\n",
    "        self.branch_pool = nn.Conv2d(in_channels, 24, kernel_size=1)\n",
    "\n",
    "    def forward(self, x):\n",
    "        branch1x1 = self.branch1x1(x)\n",
    "\n",
    "        branch5x5 = self.branch5x5_1(x)\n",
    "        branch5x5 = self.branch5x5_2(branch5x5)\n",
    "\n",
    "        branch3x3dbl = self.branch3x3dbl_1(x)\n",
    "        branch3x3dbl = self.branch3x3dbl_2(branch3x3dbl)\n",
    "        branch3x3dbl = self.branch3x3dbl_3(branch3x3dbl)\n",
    "\n",
    "        branch_pool = F.avg_pool2d(x, kernel_size=3, stride=1, padding=1)\n",
    "        branch_pool = self.branch_pool(branch_pool)\n",
    "\n",
    "        outputs = [branch1x1, branch5x5, branch3x3dbl, branch_pool]\n",
    "        return torch.cat(outputs, 1)\n",
    "\n",
    "\n"
   ]
  },
  {
   "cell_type": "code",
   "execution_count": null,
   "metadata": {
    "collapsed": true
   },
   "outputs": [],
   "source": [
    "# ネットワークの設計\n",
    "class Net(nn.Module):\n",
    "\n",
    "    def __init__(self):\n",
    "        super(Net, self).__init__()\n",
    "        self.conv1 = nn.Conv2d(1, 10, kernel_size=5)\n",
    "        self.conv2 = nn.Conv2d(88, 20, kernel_size=5)\n",
    "\n",
    "        self.incept1 = InceptionA(in_channels=10)\n",
    "        self.incept2 = InceptionA(in_channels=20)\n",
    "\n",
    "        self.mp = nn.MaxPool2d(2)\n",
    "        self.fc = nn.Linear(1408, 10)\n",
    "\n",
    "    def forward(self, x):\n",
    "        in_size = x.size(0)\n",
    "        x = F.relu(self.mp(self.conv1(x)))\n",
    "        x = self.incept1(x)\n",
    "        x = F.relu(self.mp(self.conv2(x)))\n",
    "        x = self.incept2(x)\n",
    "        x = x.view(in_size, -1)  # flatten the tensor\n",
    "        x = self.fc(x)\n",
    "        return F.log_softmax(x)\n",
    "\n",
    "\n"
   ]
  },
  {
   "cell_type": "code",
   "execution_count": null,
   "metadata": {
    "collapsed": true
   },
   "outputs": [],
   "source": [
    "# トレーニングとテストの内容\n",
    "model = Net()\n",
    "\n",
    "optimizer = optim.SGD(model.parameters(), lr=0.01, momentum=0.5)\n",
    "\n",
    "\n",
    "def train(epoch):\n",
    "    model.train()\n",
    "    for batch_idx, (data, target) in enumerate(train_loader):\n",
    "        data, target = Variable(data), Variable(target)\n",
    "        optimizer.zero_grad()\n",
    "        output = model(data)\n",
    "        loss = F.nll_loss(output, target)\n",
    "        loss.backward()\n",
    "        optimizer.step()\n",
    "        if batch_idx % 10 == 0:\n",
    "            print('Train Epoch: {} [{}/{} ({:.0f}%)]\\tLoss: {:.6f}'.format(\n",
    "                epoch, batch_idx * len(data), len(train_loader.dataset),\n",
    "                100. * batch_idx / len(train_loader), loss.data[0]))\n",
    "            tr.append(loss.data[0])\n",
    "    return tr\n",
    "\n",
    "\n",
    "def test():\n",
    "    model.eval()\n",
    "    test_loss = 0\n",
    "    correct = 0\n",
    "    for data, target in test_loader:\n",
    "        data, target = Variable(data, volatile=True), Variable(target)\n",
    "        output = model(data)\n",
    "        # sum up batch loss\n",
    "        test_loss += F.nll_loss(output, target, size_average=False).data[0]\n",
    "        # get the index of the max log-probability\n",
    "        pred = output.data.max(1, keepdim=True)[1]\n",
    "        correct += pred.eq(target.data.view_as(pred)).cpu().sum()\n",
    "\n",
    "    test_loss /= len(test_loader.dataset)\n",
    "    print('\\nTest set: Average loss: {:.4f}, Accuracy: {}/{} ({:.0f}%)\\n'.format(\n",
    "        test_loss, correct, len(test_loader.dataset),\n",
    "        100. * correct / len(test_loader.dataset)))\n",
    "    ts.append(test_loss)\n",
    "    return ts\n",
    "\n"
   ]
  },
  {
   "cell_type": "code",
   "execution_count": null,
   "metadata": {
    "collapsed": true
   },
   "outputs": [],
   "source": [
    "# 実行部分\n",
    "tr, ts = [], []\n",
    "start = time.time()\n",
    "for epoch in range(1, 10):\n",
    "    t = train(epoch)\n",
    "    s = test()\n",
    "    tr.append(t)\n",
    "    ts.append(s)\n",
    "end = time.time()\n",
    "\n",
    "print(\"taken_time is:\", end-start,\" sec\")"
   ]
  }
 ],
 "metadata": {
  "kernelspec": {
   "display_name": "Python 3",
   "language": "python",
   "name": "python3"
  },
  "language_info": {
   "codemirror_mode": {
    "name": "ipython",
    "version": 3
   },
   "file_extension": ".py",
   "mimetype": "text/x-python",
   "name": "python",
   "nbconvert_exporter": "python",
   "pygments_lexer": "ipython3",
   "version": "3.5.0rc4"
  }
 },
 "nbformat": 4,
 "nbformat_minor": 0
}
